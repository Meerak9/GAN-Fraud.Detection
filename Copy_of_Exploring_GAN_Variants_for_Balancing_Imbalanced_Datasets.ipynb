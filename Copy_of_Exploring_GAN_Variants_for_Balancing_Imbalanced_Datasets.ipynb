{
  "nbformat": 4,
  "nbformat_minor": 0,
  "metadata": {
    "colab": {
      "provenance": []
    },
    "kernelspec": {
      "name": "python3",
      "display_name": "Python 3"
    },
    "language_info": {
      "name": "python"
    }
  },
  "cells": [
    {
      "cell_type": "code",
      "execution_count": null,
      "metadata": {
        "colab": {
          "base_uri": "https://localhost:8080/"
        },
        "id": "aYOQP8UdrlIR",
        "outputId": "8c673ea0-4286-47c6-a841-8070ab915c84"
      },
      "outputs": [
        {
          "output_type": "stream",
          "name": "stdout",
          "text": [
            "Mounted at /content/drive\n"
          ]
        }
      ],
      "source": [
        "from google.colab import drive\n",
        "drive.mount('/content/drive')\n"
      ]
    },
    {
      "cell_type": "code",
      "source": [
        "import pandas as pd\n",
        "\n",
        "file_path = '/content/drive/MyDrive/GAN_Project/creditcard.csv'\n",
        "df = pd.read_csv(file_path, on_bad_lines='skip')\n",
        "\n",
        "print(\"Shape of the DataFrame:\", df.shape)\n",
        "print(df.head())"
      ],
      "metadata": {
        "colab": {
          "base_uri": "https://localhost:8080/"
        },
        "id": "tew2kMS7ti9G",
        "outputId": "01a7fc8d-2a4c-4c23-bc0f-3d7795b068f3"
      },
      "execution_count": null,
      "outputs": [
        {
          "output_type": "stream",
          "name": "stdout",
          "text": [
            "Shape of the DataFrame: (120875, 31)\n",
            "   Time        V1        V2        V3        V4        V5        V6        V7  \\\n",
            "0     0 -1.359807 -0.072781  2.536347  1.378155 -0.338321  0.462388  0.239599   \n",
            "1     0  1.191857  0.266151  0.166480  0.448154  0.060018 -0.082361 -0.078803   \n",
            "2     1 -1.358354 -1.340163  1.773209  0.379780 -0.503198  1.800499  0.791461   \n",
            "3     1 -0.966272 -0.185226  1.792993 -0.863291 -0.010309  1.247203  0.237609   \n",
            "4     2 -1.158233  0.877737  1.548718  0.403034 -0.407193  0.095921  0.592941   \n",
            "\n",
            "         V8        V9  ...       V21       V22       V23       V24       V25  \\\n",
            "0  0.098698  0.363787  ... -0.018307  0.277838 -0.110474  0.066928  0.128539   \n",
            "1  0.085102 -0.255425  ... -0.225775 -0.638672  0.101288 -0.339846  0.167170   \n",
            "2  0.247676 -1.514654  ...  0.247998  0.771679  0.909412 -0.689281 -0.327642   \n",
            "3  0.377436 -1.387024  ... -0.108300  0.005274 -0.190321 -1.175575  0.647376   \n",
            "4 -0.270533  0.817739  ... -0.009431  0.798278 -0.137458  0.141267 -0.206010   \n",
            "\n",
            "        V26       V27       V28  Amount  Class  \n",
            "0 -0.189115  0.133558 -0.021053  149.62    0.0  \n",
            "1  0.125895 -0.008983  0.014724    2.69    0.0  \n",
            "2 -0.139097 -0.055353 -0.059752  378.66    0.0  \n",
            "3 -0.221929  0.062723  0.061458  123.50    0.0  \n",
            "4  0.502292  0.219422  0.215153   69.99    0.0  \n",
            "\n",
            "[5 rows x 31 columns]\n"
          ]
        },
        {
          "output_type": "stream",
          "name": "stderr",
          "text": [
            "<ipython-input-12-d31f9bb6ba00>:4: DtypeWarning: Columns (5,12,14,15,20) have mixed types. Specify dtype option on import or set low_memory=False.\n",
            "  df = pd.read_csv(file_path, on_bad_lines='skip')\n"
          ]
        }
      ]
    },
    {
      "cell_type": "code",
      "source": [
        "import seaborn as sns\n",
        "import matplotlib.pyplot as plt\n",
        "\n",
        "# the number of each category\n",
        "print(df['Class'].value_counts())\n",
        "\n",
        "# diagram\n",
        "sns.countplot(x='Class', data=df)\n",
        "plt.title('Class Distribution (0 = Non-Fraud, 1 = Fraud)')\n",
        "plt.xlabel('Class')\n",
        "plt.ylabel('Count')\n",
        "plt.show()\n",
        "\n",
        "# Calculating percentages\n",
        "class_counts = df['Class'].value_counts(normalize=True)\n",
        "print(\"\\nClass Percentages:\")\n",
        "print(class_counts)"
      ],
      "metadata": {
        "colab": {
          "base_uri": "https://localhost:8080/",
          "height": 654
        },
        "id": "L0I1XDExzRVa",
        "outputId": "6fc253fe-56a2-42fb-8d72-8d15b410ac0b"
      },
      "execution_count": null,
      "outputs": [
        {
          "output_type": "stream",
          "name": "stdout",
          "text": [
            "Class\n",
            "0.0    120605\n",
            "1.0       239\n",
            "Name: count, dtype: int64\n"
          ]
        },
        {
          "output_type": "display_data",
          "data": {
            "text/plain": [
              "<Figure size 640x480 with 1 Axes>"
            ],
            "image/png": "[encoded data removed]"
          },
          "metadata": {}
        },
        {
          "output_type": "stream",
          "name": "stdout",
          "text": [
            "\n",
            "Class Percentages:\n",
            "Class\n",
            "0.0    0.998022\n",
            "1.0    0.001978\n",
            "Name: proportion, dtype: float64\n"
          ]
        }
      ]
    },
    {
      "cell_type": "code",
      "source": [
        "#(minority class)\n",
        "df_fraud = df[df['Class'] == 1]\n",
        "\n",
        "#(majority class)\n",
        "df_non_fraud = df[df['Class'] == 0]\n",
        "\n",
        "#the number of samples in each category\n",
        "print(\"Number of fraud samples:\", len(df_fraud))\n",
        "print(\"Number of non-fraud samples:\", len(df_non_fraud))"
      ],
      "metadata": {
        "colab": {
          "base_uri": "https://localhost:8080/"
        },
        "id": "Ic14Din91WF0",
        "outputId": "25cce5f4-ec3d-49cd-ef3e-17d88ebdf2c6"
      },
      "execution_count": null,
      "outputs": [
        {
          "output_type": "stream",
          "name": "stdout",
          "text": [
            "Number of fraud samples: 239\n",
            "Number of non-fraud samples: 120605\n"
          ]
        }
      ]
    },
    {
      "cell_type": "code",
      "source": [
        "from sklearn.preprocessing import StandardScaler\n",
        "\n",
        "# بشيل ال الأعمدة الغير ضرورية'Time' و'Class'\n",
        "df_fraud_features = df_fraud.drop(['Time', 'Class'], axis=1)\n",
        "\n",
        "#Normalization\n",
        "scaler = StandardScaler()\n",
        "X_fraud_scaled = scaler.fit_transform(df_fraud_features)\n",
        "\n",
        "print(\"Scaled fraud data shape:\", X_fraud_scaled.shape)"
      ],
      "metadata": {
        "colab": {
          "base_uri": "https://localhost:8080/"
        },
        "id": "pbdmX6r_10xh",
        "outputId": "4be95dd6-5912-4a93-f68e-ed05f51b7028"
      },
      "execution_count": null,
      "outputs": [
        {
          "output_type": "stream",
          "name": "stdout",
          "text": [
            "Scaled fraud data shape: (239, 29)\n"
          ]
        }
      ]
    },
    {
      "cell_type": "code",
      "source": [
        "import torch\n",
        "\n",
        "# تحويل الداتا Tensor\n",
        "X_tensor = torch.tensor(X_fraud_scaled, dtype=torch.float32)"
      ],
      "metadata": {
        "id": "a5BK0hGN2V1o"
      },
      "execution_count": null,
      "outputs": []
    },
    {
      "cell_type": "code",
      "source": [
        "import torch\n",
        "import torch.nn as nn\n",
        "\n",
        "# Generator\n",
        "class Generator(nn.Module):\n",
        "    def __init__(self, latent_dim=100, input_dim=29):\n",
        "        super(Generator, self).__init__()\n",
        "        self.model = nn.Sequential(\n",
        "            nn.Linear(latent_dim, 256),\n",
        "            nn.ReLU(),\n",
        "            nn.Linear(256, 512),\n",
        "            nn.BatchNorm1d(512),\n",
        "            nn.ReLU(),\n",
        "            nn.Linear(512, input_dim),\n",
        "            nn.Tanh()  )\n",
        "            #values between -1 , 1\n",
        "\n",
        "    def forward(self, z):\n",
        "        return self.model(z)"
      ],
      "metadata": {
        "id": "96-l2Qrl327J"
      },
      "execution_count": null,
      "outputs": []
    },
    {
      "cell_type": "code",
      "source": [
        "# Discriminator (ببين اذا الداتا حقيقية  ولا مزيفة)\n",
        "class Discriminator(nn.Module):\n",
        "    def __init__(self, input_dim=29):\n",
        "        super(Discriminator, self).__init__()\n",
        "        self.model = nn.Sequential(\n",
        "            nn.Linear(input_dim, 512),\n",
        "            nn.LeakyReLU(0.2),\n",
        "            nn.Linear(512, 256),\n",
        "            nn.LeakyReLU(0.2),\n",
        "            nn.Linear(256, 1),\n",
        "            nn.Sigmoid()\n",
        "        )\n",
        "\n",
        "    def forward(self, x):\n",
        "        return self.model(x)"
      ],
      "metadata": {
        "id": "yPOSeEA94gjg"
      },
      "execution_count": null,
      "outputs": []
    },
    {
      "cell_type": "code",
      "source": [
        "#Data dimensions\n",
        "latent_dim = 100\n",
        "input_dim = X_tensor.shape[1]  # عدد ال features\n",
        "\n",
        "#creat models\n",
        "generator = Generator(latent_dim, input_dim)\n",
        "discriminator = Discriminator(input_dim)\n",
        "\n",
        "# Loss Function\n",
        "criterion = nn.BCELoss()\n",
        "\n",
        "# Optimizers\n",
        "g_optimizer = torch.optim.Adam(generator.parameters(), lr=0.0002)\n",
        "d_optimizer = torch.optim.Adam(discriminator.parameters(), lr=0.0002)\n",
        "\n",
        "# DataLoader )(عشان نقسم الداتا لأكتر من دفعة)\n",
        "from torch.utils.data import DataLoader, TensorDataset\n",
        "loader = DataLoader(TensorDataset(X_tensor), batch_size=64, shuffle=True)"
      ],
      "metadata": {
        "id": "nT5CWNnO4yec"
      },
      "execution_count": null,
      "outputs": []
    },
    {
      "cell_type": "code",
      "source": [
        "#epochs\n",
        "num_epochs = 100\n",
        "\n",
        "for epoch in range(num_epochs):\n",
        "    for real_batch in loader:\n",
        "        real_data = real_batch[0]\n",
        "        batch_size = real_data.size(0)\n",
        "\n",
        "        # Labels for real and fake data\n",
        "        real_labels = torch.ones(batch_size, 1)\n",
        "        fake_labels = torch.zeros(batch_size, 1)\n",
        "\n",
        "        # Train Discriminator\n",
        "        d_optimizer.zero_grad()\n",
        "\n",
        "        # Loss for real data\n",
        "        real_output = discriminator(real_data)\n",
        "        d_loss_real = criterion(real_output, real_labels)\n",
        "\n",
        "        # Generate random noise and fake data\n",
        "        z = torch.randn(batch_size, latent_dim)\n",
        "        fake_data = generator(z)\n",
        "\n",
        "        # Loss for fake data\n",
        "        fake_output = discriminator(fake_data.detach())\n",
        "        d_loss_fake = criterion(fake_output, fake_labels)\n",
        "\n",
        "         # Total loss for the discriminator\n",
        "        d_loss = d_loss_real + d_loss_fake\n",
        "        d_loss.backward()\n",
        "        d_optimizer.step()\n",
        "\n",
        "        # Train Generator\n",
        "        g_optimizer.zero_grad()\n",
        "\n",
        "        # Generator tries to fool the discriminator into thinking fake data is real!\n",
        "        fake_output = discriminator(fake_data)\n",
        "        g_loss = criterion(fake_output, real_labels)\n",
        "        g_loss.backward()\n",
        "        g_optimizer.step()\n",
        "\n",
        "   # Print results every 20 epochs\n",
        "    if (epoch + 1) % 20 == 0:\n",
        "        print(f\"Epoch [{epoch+1}/{num_epochs}], D Loss: {d_loss.item():.4f}, G Loss: {g_loss.item():.4f}\")"
      ],
      "metadata": {
        "colab": {
          "base_uri": "https://localhost:8080/"
        },
        "id": "kcTqFvuK5iAy",
        "outputId": "fc9f6c7e-b9bd-4226-c22e-346249298b62"
      },
      "execution_count": null,
      "outputs": [
        {
          "output_type": "stream",
          "name": "stdout",
          "text": [
            "Epoch [20/100], D Loss: 0.7420, G Loss: 1.1400\n",
            "Epoch [40/100], D Loss: 0.5574, G Loss: 2.1265\n",
            "Epoch [60/100], D Loss: 0.5598, G Loss: 2.2713\n",
            "Epoch [80/100], D Loss: 0.2109, G Loss: 3.8499\n",
            "Epoch [100/100], D Loss: 0.4382, G Loss: 2.7505\n"
          ]
        }
      ]
    },
    {
      "cell_type": "code",
      "source": [
        "# Number of samples to generate\n",
        "num_samples = 500\n",
        "\n",
        "# Generate random noise\n",
        "z = torch.randn(num_samples, latent_dim)\n",
        "\n",
        "# Generate synthetic data\n",
        "generated_data = generator(z).detach().numpy()\n",
        "\n",
        "# Revert values back to original scale (Inverse transform)\n",
        "generated_data_original = scaler.inverse_transform(generated_data)\n",
        "\n",
        "# Show the shape of generated data\n",
        "print(\"Shape of generated data:\", generated_data_original.shape)"
      ],
      "metadata": {
        "colab": {
          "base_uri": "https://localhost:8080/"
        },
        "id": "iQHBaKUk7I5k",
        "outputId": "1d11022b-5d3a-425d-bb8f-ddf75477ecda"
      },
      "execution_count": null,
      "outputs": [
        {
          "output_type": "stream",
          "name": "stdout",
          "text": [
            "Shape of generated data: (500, 29)\n"
          ]
        }
      ]
    },
    {
      "cell_type": "code",
      "source": [
        "# show the first 5 rows\n",
        "import pandas as pd\n",
        "\n",
        "# Make sure df_fraud does not include Time and Class columns\n",
        "df_fraud_clean = df[df['Class'] == 1].drop(['Time', 'Class'], axis=1)\n",
        "\n",
        "# Create a DataFrame with the generated data\n",
        "generated_df = pd.DataFrame(generated_data_original, columns=df_fraud_clean.columns)\n",
        "\n",
        "# Add a new column Class = 1 (for synthetic fraud data)\n",
        "generated_df['Class'] = 1\n",
        "\n",
        "# Show the generated samples\n",
        "print(\"\\nSample of Generated Data:\")\n",
        "print(generated_df.head())"
      ],
      "metadata": {
        "colab": {
          "base_uri": "https://localhost:8080/"
        },
        "id": "Y3FaN1iO7-R-",
        "outputId": "f21a2e64-28af-425e-fecc-af7035d368ad"
      },
      "execution_count": null,
      "outputs": [
        {
          "output_type": "stream",
          "name": "stdout",
          "text": [
            "\n",
            "Sample of Generated Data:\n",
            "         V1        V2         V3        V4        V5        V6        V7  \\\n",
            "0  1.525321  0.136433   0.228169  1.836013 -8.553093 -0.066665  0.344200   \n",
            "1  1.401995  0.392901  -0.362022  2.006380 -8.887048 -1.592092  0.223612   \n",
            "2  1.620040  0.040681 -15.522153  6.705643 -9.815001 -3.011173  0.351324   \n",
            "3  1.163894  1.911773 -13.608825  2.375801 -8.412797 -0.308406  0.168466   \n",
            "4  1.532449  0.092107  -8.125868  5.341424 -9.206243 -0.297690  0.312825   \n",
            "\n",
            "         V8        V9       V10  ...       V21       V22       V23       V24  \\\n",
            "0 -6.174325 -0.349238 -1.715534  ...  5.401593  1.191512 -1.542785 -0.204553   \n",
            "1 -6.140718 -0.386627 -1.844802  ...  5.546021  1.055244 -0.883172 -0.585003   \n",
            "2 -6.180892 -5.229855 -1.753622  ...  5.689863 -0.868779 -1.774832 -0.615837   \n",
            "3 -5.688609 -1.747253 -2.151820  ...  5.042509  1.024265 -1.583360 -0.590815   \n",
            "4 -6.168855 -0.437647 -1.711059  ...  5.559212  1.187200 -1.724533 -0.346518   \n",
            "\n",
            "        V25       V26       V27       V28      Amount  Class  \n",
            "0 -0.633810 -0.330239 -0.559001 -0.486261  354.972260      1  \n",
            "1 -0.564859 -0.206104 -0.543767 -0.468767  346.406372      1  \n",
            "2 -0.556987 -0.339680 -0.580247 -0.350778  329.704102      1  \n",
            "3 -0.599616 -0.307742 -0.512242 -0.275895  239.512878      1  \n",
            "4 -0.558762 -0.289176 -0.564080 -0.438057  355.375916      1  \n",
            "\n",
            "[5 rows x 30 columns]\n"
          ]
        }
      ]
    },
    {
      "cell_type": "code",
      "source": [
        "# Split the original data into non-fraud and fraud\n",
        "df_non_fraud = df[df['Class'] == 0] #all non-fraud transactions (Class=0)\n",
        "df_fraud_original = df[df['Class'] == 1] #synthetic fraud data (Class=1)\n",
        "\n",
        "# Combine the data to create a balanced dataset\n",
        "balanced_df = pd.concat([df_non_fraud, df_fraud_original, generated_df], axis=0)\n",
        "\n",
        "# Shuffle the rows randomly\n",
        "balanced_df = balanced_df.sample(frac=1, random_state=42).reset_index(drop=True)\n",
        "\n",
        "# Show class distribution after balancing\n",
        "print(balanced_df['Class'].value_counts())"
      ],
      "metadata": {
        "colab": {
          "base_uri": "https://localhost:8080/"
        },
        "id": "D24JnCW9Fw5-",
        "outputId": "c90e645a-f540-420a-ad6e-e80a91bc338e"
      },
      "execution_count": null,
      "outputs": [
        {
          "output_type": "stream",
          "name": "stdout",
          "text": [
            "Class\n",
            "0.0    120605\n",
            "1.0       739\n",
            "Name: count, dtype: int64\n"
          ]
        }
      ]
    },
    {
      "cell_type": "code",
      "source": [
        "import seaborn as sns\n",
        "import matplotlib.pyplot as plt\n",
        "\n",
        "sns.countplot(x='Class', data=balanced_df)\n",
        "plt.title('Balanced Class Distribution')\n",
        "plt.show()"
      ],
      "metadata": {
        "colab": {
          "base_uri": "https://localhost:8080/",
          "height": 472
        },
        "id": "Voj_O8UVG8tb",
        "outputId": "22814e93-ab08-4608-abe9-ba6102f9e4a1"
      },
      "execution_count": null,
      "outputs": [
        {
          "output_type": "display_data",
          "data": {
            "text/plain": [
              "<Figure size 640x480 with 1 Axes>"
            ],
            "image/png": "[encoded data removed]"
          },
          "metadata": {}
        }
      ]
    },
    {
      "cell_type": "code",
      "source": [
        "num_samples = 10000  #Increase the number of generated samples\n",
        "z = torch.randn(num_samples, latent_dim)\n",
        "generated_data = generator(z).detach().numpy()\n",
        "generated_data_original = scaler.inverse_transform(generated_data)\n",
        "\n",
        "generated_df = pd.DataFrame(generated_data_original, columns=df_fraud_clean.columns)\n",
        "generated_df['Class'] = 1\n",
        "\n",
        "balanced_df = pd.concat([df_non_fraud, df_fraud_original, generated_df], axis=0)\n",
        "balanced_df = balanced_df.sample(frac=1, random_state=42).reset_index(drop=True)\n",
        "\n",
        "print(balanced_df['Class'].value_counts())"
      ],
      "metadata": {
        "colab": {
          "base_uri": "https://localhost:8080/"
        },
        "id": "nD3V1tkvIg46",
        "outputId": "388fa4df-2fcb-46ab-acfa-76df6c9745c4"
      },
      "execution_count": null,
      "outputs": [
        {
          "output_type": "stream",
          "name": "stdout",
          "text": [
            "Class\n",
            "0.0    120605\n",
            "1.0     10239\n",
            "Name: count, dtype: int64\n"
          ]
        }
      ]
    },
    {
      "cell_type": "code",
      "source": [
        "# Generator و Discriminator for WGAN\n",
        "import torch\n",
        "import torch.nn as nn\n",
        "\n",
        "class WGAN_Generator(nn.Module):\n",
        "    def __init__(self, latent_dim=100, input_dim=29):\n",
        "        super(WGAN_Generator, self).__init__()\n",
        "        self.model = nn.Sequential(\n",
        "            nn.Linear(latent_dim, 256),\n",
        "            nn.ReLU(),\n",
        "            nn.Linear(256, 512),\n",
        "            nn.BatchNorm1d(512),\n",
        "            nn.ReLU(),\n",
        "            nn.Linear(512, input_dim),\n",
        "            nn.Tanh()\n",
        "        )\n",
        "\n",
        "    def forward(self, z):\n",
        "        return self.model(z)\n",
        "\n",
        "\n",
        "class WGAN_Critic(nn.Module):  #  بنستخدم ال (Critic) بدل (Discriminator)\n",
        "    def __init__(self, input_dim=29):\n",
        "        super(WGAN_Critic, self).__init__()\n",
        "        self.model = nn.Sequential(\n",
        "            nn.Linear(input_dim, 512),\n",
        "            nn.LeakyReLU(0.2),\n",
        "            nn.Linear(512, 256),\n",
        "            nn.LeakyReLU(0.2),\n",
        "            nn.Linear(256, 1)\n",
        "        )\n",
        "\n",
        "    def forward(self, x):\n",
        "        return self.model(x)"
      ],
      "metadata": {
        "id": "CuMKhNCFI-Bm"
      },
      "execution_count": null,
      "outputs": []
    },
    {
      "cell_type": "code",
      "source": [
        "latent_dim = 100\n",
        "input_dim = X_tensor.shape[1]\n",
        "\n",
        "generator_wgan = WGAN_Generator(latent_dim, input_dim)\n",
        "critic_wgan = WGAN_Critic(input_dim)\n",
        "\n",
        "g_optimizer_wgan = torch.optim.RMSprop(generator_wgan.parameters(), lr=0.00005)\n",
        "c_optimizer_wgan = torch.optim.RMSprop(critic_wgan.parameters(), lr=0.00005)\n",
        "\n",
        "# DataLoader\n",
        "from torch.utils.data import DataLoader, TensorDataset\n",
        "loader = DataLoader(TensorDataset(X_tensor), batch_size=64, shuffle=True)\n",
        "\n",
        "#Training Loop\n",
        "num_epochs_wgan = 200\n",
        "n_critic = 5 # Number of times Critic is trained per epoch\n",
        "\n",
        "for epoch in range(num_epochs_wgan):\n",
        "    for i, real_batch in enumerate(loader):\n",
        "        real_data = real_batch[0]\n",
        "        batch_size = real_data.size(0)\n",
        "\n",
        "        #Train Critic\n",
        "        for _ in range(n_critic):\n",
        "            c_optimizer_wgan.zero_grad()\n",
        "\n",
        "            # Real loss\n",
        "            real_loss = -torch.mean(critic_wgan(real_data))\n",
        "\n",
        "            # Fake loss\n",
        "            z = torch.randn(batch_size, latent_dim)\n",
        "            fake_data = generator_wgan(z)\n",
        "            fake_loss = torch.mean(critic_wgan(fake_data))\n",
        "\n",
        "            # Total loss\n",
        "            c_loss = real_loss + fake_loss\n",
        "            c_loss.backward()\n",
        "            c_optimizer_wgan.step()\n",
        "\n",
        "            # Clip critic weights\n",
        "            for p in critic_wgan.parameters():\n",
        "                p.data.clamp_(-0.01, 0.01)\n",
        "\n",
        "        #Train Generator\n",
        "        g_optimizer_wgan.zero_grad()\n",
        "        z = torch.randn(batch_size, latent_dim)\n",
        "        fake_data = generator_wgan(z)\n",
        "        g_loss = -torch.mean(critic_wgan(fake_data))\n",
        "        g_loss.backward()\n",
        "        g_optimizer_wgan.step()\n",
        "\n",
        "    if (epoch + 1) % 50 == 0:\n",
        "        print(f\"Epoch [{epoch+1}/{num_epochs_wgan}], C Loss: {c_loss.item():.4f}, G Loss: {g_loss.item():.4f}\")"
      ],
      "metadata": {
        "colab": {
          "base_uri": "https://localhost:8080/"
        },
        "id": "N40rp0xeJzgb",
        "outputId": "35c07ac5-40d8-43b3-becc-b82d8db0f8d6"
      },
      "execution_count": null,
      "outputs": [
        {
          "output_type": "stream",
          "name": "stdout",
          "text": [
            "Epoch [50/200], C Loss: -0.1259, G Loss: -0.1596\n",
            "Epoch [100/200], C Loss: -0.1165, G Loss: -0.0825\n",
            "Epoch [150/200], C Loss: -0.0739, G Loss: -0.1326\n",
            "Epoch [200/200], C Loss: -0.0988, G Loss: -0.1743\n"
          ]
        }
      ]
    },
    {
      "cell_type": "code",
      "source": [
        "# Number of samples to generate\n",
        "num_samples_wgan = 500\n",
        "\n",
        "# Generate random noise\n",
        "z_wgan = torch.randn(num_samples_wgan, latent_dim)\n",
        "\n",
        "# Generate synthetic data\n",
        "generated_data_wgan = generator_wgan(z_wgan).detach().numpy()\n",
        "\n",
        "# Revert values back to original scale\n",
        "generated_data_original_wgan = scaler.inverse_transform(generated_data_wgan)\n",
        "\n",
        "# Show the shape of generated data\n",
        "print(\"Shape of generated data from WGAN:\", generated_data_original_wgan.shape)"
      ],
      "metadata": {
        "colab": {
          "base_uri": "https://localhost:8080/"
        },
        "id": "lWwM5LrwKtgK",
        "outputId": "8c52c3e1-1ec4-475c-a9e0-558bcd5f06d4"
      },
      "execution_count": null,
      "outputs": [
        {
          "output_type": "stream",
          "name": "stdout",
          "text": [
            "Shape of generated data from WGAN: (500, 29)\n"
          ]
        }
      ]
    },
    {
      "cell_type": "code",
      "source": [
        "# creat DataFrame\n",
        "generated_df_wgan = pd.DataFrame(generated_data_original_wgan, columns=df_fraud_clean.columns)\n",
        "generated_df_wgan['Class'] = 1"
      ],
      "metadata": {
        "id": "9RHGNkvNLJAq"
      },
      "execution_count": null,
      "outputs": []
    },
    {
      "cell_type": "code",
      "source": [
        "#Integration Data\n",
        "balanced_df_wgan = pd.concat([df_non_fraud, df_fraud_original, generated_df_wgan], axis=0)\n",
        "balanced_df_wgan = balanced_df_wgan.sample(frac=1, random_state=42).reset_index(drop=True)\n",
        "\n",
        "print(balanced_df_wgan['Class'].value_counts())\n",
        "\n",
        "sns.countplot(x='Class', data=balanced_df_wgan)\n",
        "plt.title('Balanced Class Distribution (WGAN)')\n",
        "plt.show()"
      ],
      "metadata": {
        "colab": {
          "base_uri": "https://localhost:8080/",
          "height": 545
        },
        "id": "3LvYWT6HLP0d",
        "outputId": "ad2582fc-4f32-4b00-fa6e-f542279c336a"
      },
      "execution_count": null,
      "outputs": [
        {
          "output_type": "stream",
          "name": "stdout",
          "text": [
            "Class\n",
            "0.0    120605\n",
            "1.0       739\n",
            "Name: count, dtype: int64\n"
          ]
        },
        {
          "output_type": "display_data",
          "data": {
            "text/plain": [
              "<Figure size 640x480 with 1 Axes>"
            ],
            "image/png": "[encoded data removed]"
          },
          "metadata": {}
        }
      ]
    },
    {
      "cell_type": "code",
      "source": [
        "from sklearn.ensemble import RandomForestClassifier\n",
        "from sklearn.model_selection import train_test_split\n",
        "from sklearn.metrics import precision_score, recall_score, f1_score, roc_auc_score\n",
        "import pandas as pd\n",
        "import matplotlib.pyplot as plt\n",
        "import seaborn as sns\n",
        "\n",
        "\n",
        "#Define function to split data\n",
        "def prepare_data(df):\n",
        "    X = df.drop('Class', axis=1)\n",
        "    y = df['Class']\n",
        "    return train_test_split(X, y, test_size=0.2, random_state=42)\n",
        "\n",
        "#Clean data before training\n",
        "for col in df.columns:\n",
        "    if col not in ['Time', 'Class']:\n",
        "        df[col] = pd.to_numeric(df[col], errors='coerce')\n",
        "\n",
        "df = df.fillna(0)\n",
        "\n",
        "#Split original dataset\n",
        "X = df.drop('Class', axis=1)\n",
        "y = df['Class']\n",
        "X_train_orig, X_test_orig, y_train_orig, y_test_orig = prepare_data(df)\n",
        "\n",
        "#Train model on original data\n",
        "model_orig = RandomForestClassifier()\n",
        "model_orig.fit(X_train_orig, y_train_orig)\n",
        "y_pred_orig = model_orig.predict(X_test_orig)\n",
        "\n",
        "\n"
      ],
      "metadata": {
        "id": "jz3O1UocWE7P"
      },
      "execution_count": null,
      "outputs": []
    },
    {
      "cell_type": "code",
      "source": [
        "#Train model on (Vanilla GAN)\n",
        "balanced_vanilla = pd.concat([df_non_fraud, df_fraud_original, generated_df], axis=0)\n",
        "balanced_vanilla = balanced_vanilla.sample(frac=1, random_state=42).reset_index(drop=True)\n",
        "\n",
        "X_train_vanilla, X_test_vanilla, y_train_vanilla, y_test_vanilla = prepare_data(balanced_vanilla)\n",
        "\n",
        "model_vanilla = RandomForestClassifier()\n",
        "model_vanilla.fit(X_train_vanilla, y_train_vanilla)\n",
        "y_pred_vanilla = model_vanilla.predict(X_test_vanilla)\n"
      ],
      "metadata": {
        "id": "f8c-1tcQWEv2"
      },
      "execution_count": null,
      "outputs": []
    },
    {
      "cell_type": "code",
      "source": [
        "#Train model on (WGAN)\n",
        "balanced_wgan = pd.concat([df_non_fraud, df_fraud_original, generated_df_wgan], axis=0)\n",
        "balanced_wgan = balanced_wgan.sample(frac=1, random_state=42).reset_index(drop=True)\n",
        "\n",
        "X_train_wgan, X_test_wgan, y_train_wgan, y_test_wgan = prepare_data(balanced_wgan)\n",
        "\n",
        "model_wgan = RandomForestClassifier()\n",
        "model_wgan.fit(X_train_wgan, y_train_wgan)\n",
        "y_pred_wgan = model_wgan.predict(X_test_wgan)\n"
      ],
      "metadata": {
        "id": "_G2eP3eRXZRi"
      },
      "execution_count": null,
      "outputs": []
    },
    {
      "cell_type": "code",
      "source": [
        "#Function to calculate performance metrics\n",
        "def evaluate(y_true, y_pred, model=None, X_test=None):\n",
        "    prec = precision_score(y_true, y_pred)\n",
        "    rec = recall_score(y_true, y_pred)\n",
        "    f1 = f1_score(y_true, y_pred)\n",
        "    if X_test is not None and model is not None:\n",
        "        auc = roc_auc_score(y_true, model.predict_proba(X_test)[:, 1])\n",
        "    else:\n",
        "        auc = float('nan')  # في حال لم يتم توفير احتمالات\n",
        "    return prec, rec, f1, auc"
      ],
      "metadata": {
        "id": "dvDIaeCsXgdo"
      },
      "execution_count": null,
      "outputs": []
    },
    {
      "cell_type": "code",
      "source": [
        "#Calculate metrics for each case\n",
        "prec_orig, rec_orig, f1_orig, auc_orig = evaluate(y_test_orig, y_pred_orig, model_orig, X_test_orig)\n",
        "prec_vanilla, rec_vanilla, f1_vanilla, auc_vanilla = evaluate(y_test_vanilla, y_pred_vanilla, model_vanilla, X_test_vanilla)\n",
        "prec_wgan, rec_wgan, f1_wgan, auc_wgan = evaluate(y_test_wgan, y_pred_wgan, model_wgan, X_test_wgan)"
      ],
      "metadata": {
        "id": "-uf-tEyBYNhj"
      },
      "execution_count": null,
      "outputs": []
    },
    {
      "cell_type": "code",
      "source": [
        "#Display results in a table\n",
        "results = {\n",
        "    'Metric': ['Precision', 'Recall', 'F1-Score', 'ROC-AUC'],\n",
        "    'Original': [prec_orig, rec_orig, f1_orig, auc_orig],\n",
        "    'Vanilla GAN': [prec_vanilla, rec_vanilla, f1_vanilla, auc_vanilla],\n",
        "    'WGAN': [prec_wgan, rec_wgan, f1_wgan, auc_wgan]\n",
        "}\n",
        "\n",
        "results_df = pd.DataFrame(results)\n",
        "print(\"Model Performance Comparison:\")\n",
        "print(results_df)"
      ],
      "metadata": {
        "colab": {
          "base_uri": "https://localhost:8080/"
        },
        "id": "4VVxAdwhYTtr",
        "outputId": "b7f284eb-9ba3-4739-8bc9-f0003ecdf066"
      },
      "execution_count": null,
      "outputs": [
        {
          "output_type": "stream",
          "name": "stdout",
          "text": [
            "Model Performance Comparison:\n",
            "      Metric  Original  Vanilla GAN      WGAN\n",
            "0  Precision  0.945946     0.999520  0.978102\n",
            "1     Recall  0.833333     0.997607  0.943662\n",
            "2   F1-Score  0.886076     0.998563  0.960573\n",
            "3    ROC-AUC  0.963313     0.999261  0.978135\n"
          ]
        }
      ]
    },
    {
      "cell_type": "code",
      "source": [
        "#Bar chart comparison of metrics\n",
        "results_melted = results_df.melt(id_vars='Metric', var_name='Dataset', value_name='Score')\n",
        "\n",
        "plt.figure(figsize=(10, 6))\n",
        "sns.barplot(x='Metric', y='Score', hue='Dataset', data=results_melted, ci=None)\n",
        "plt.title('Comparison of Classification Metrics')\n",
        "plt.ylabel('Score')\n",
        "plt.legend(title='Dataset Type')\n",
        "plt.ylim(0, 1.1)\n",
        "plt.show()"
      ],
      "metadata": {
        "colab": {
          "base_uri": "https://localhost:8080/",
          "height": 655
        },
        "id": "gk93IqboYaq5",
        "outputId": "4649c454-fc8a-4844-e0e1-2092ff079c2f"
      },
      "execution_count": null,
      "outputs": [
        {
          "output_type": "stream",
          "name": "stderr",
          "text": [
            "<ipython-input-61-ae57d2440a25>:5: FutureWarning: \n",
            "\n",
            "The `ci` parameter is deprecated. Use `errorbar=None` for the same effect.\n",
            "\n",
            "  sns.barplot(x='Metric', y='Score', hue='Dataset', data=results_melted, ci=None)\n"
          ]
        },
        {
          "output_type": "display_data",
          "data": {
            "text/plain": [
              "<Figure size 1000x600 with 1 Axes>"
            ],
            "image/png": "[encoded data removed]"
          },
          "metadata": {}
        }
      ]
    }
  ]
}